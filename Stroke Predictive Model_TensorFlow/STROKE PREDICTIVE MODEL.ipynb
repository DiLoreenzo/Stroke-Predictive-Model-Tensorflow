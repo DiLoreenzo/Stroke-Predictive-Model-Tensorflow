{
 "cells": [
  {
   "cell_type": "code",
   "execution_count": 130,
   "id": "31e966af",
   "metadata": {},
   "outputs": [],
   "source": [
    "#Basic imports\n",
    "import numpy as np\n",
    "import pandas as pd\n",
    "import seaborn as sns\n",
    "import matplotlib.pyplot as plt"
   ]
  },
  {
   "cell_type": "code",
   "execution_count": 131,
   "id": "25c2e51d",
   "metadata": {},
   "outputs": [],
   "source": [
    "%matplotlib inline"
   ]
  },
  {
   "cell_type": "code",
   "execution_count": 132,
   "id": "195f0153",
   "metadata": {},
   "outputs": [],
   "source": [
    "#our data\n",
    "data = pd.read_csv('stroke_data.csv')"
   ]
  },
  {
   "cell_type": "code",
   "execution_count": 133,
   "id": "57921060",
   "metadata": {},
   "outputs": [
    {
     "data": {
      "text/html": [
       "<div>\n",
       "<style scoped>\n",
       "    .dataframe tbody tr th:only-of-type {\n",
       "        vertical-align: middle;\n",
       "    }\n",
       "\n",
       "    .dataframe tbody tr th {\n",
       "        vertical-align: top;\n",
       "    }\n",
       "\n",
       "    .dataframe thead th {\n",
       "        text-align: right;\n",
       "    }\n",
       "</style>\n",
       "<table border=\"1\" class=\"dataframe\">\n",
       "  <thead>\n",
       "    <tr style=\"text-align: right;\">\n",
       "      <th></th>\n",
       "      <th>gender</th>\n",
       "      <th>age</th>\n",
       "      <th>hypertension</th>\n",
       "      <th>heart_disease</th>\n",
       "      <th>ever_married</th>\n",
       "      <th>work_type</th>\n",
       "      <th>Residence_type</th>\n",
       "      <th>avg_glucose_level</th>\n",
       "      <th>bmi</th>\n",
       "      <th>smoking_status</th>\n",
       "      <th>stroke</th>\n",
       "    </tr>\n",
       "  </thead>\n",
       "  <tbody>\n",
       "    <tr>\n",
       "      <th>0</th>\n",
       "      <td>Male</td>\n",
       "      <td>58.0</td>\n",
       "      <td>1</td>\n",
       "      <td>0</td>\n",
       "      <td>Yes</td>\n",
       "      <td>Private</td>\n",
       "      <td>Urban</td>\n",
       "      <td>87.96</td>\n",
       "      <td>39.2</td>\n",
       "      <td>never smoked</td>\n",
       "      <td>0</td>\n",
       "    </tr>\n",
       "    <tr>\n",
       "      <th>1</th>\n",
       "      <td>Female</td>\n",
       "      <td>70.0</td>\n",
       "      <td>0</td>\n",
       "      <td>0</td>\n",
       "      <td>Yes</td>\n",
       "      <td>Private</td>\n",
       "      <td>Rural</td>\n",
       "      <td>69.04</td>\n",
       "      <td>35.9</td>\n",
       "      <td>formerly smoked</td>\n",
       "      <td>0</td>\n",
       "    </tr>\n",
       "    <tr>\n",
       "      <th>2</th>\n",
       "      <td>Female</td>\n",
       "      <td>52.0</td>\n",
       "      <td>0</td>\n",
       "      <td>0</td>\n",
       "      <td>Yes</td>\n",
       "      <td>Private</td>\n",
       "      <td>Urban</td>\n",
       "      <td>77.59</td>\n",
       "      <td>17.7</td>\n",
       "      <td>formerly smoked</td>\n",
       "      <td>0</td>\n",
       "    </tr>\n",
       "    <tr>\n",
       "      <th>3</th>\n",
       "      <td>Female</td>\n",
       "      <td>75.0</td>\n",
       "      <td>0</td>\n",
       "      <td>1</td>\n",
       "      <td>Yes</td>\n",
       "      <td>Self-employed</td>\n",
       "      <td>Rural</td>\n",
       "      <td>243.53</td>\n",
       "      <td>27.0</td>\n",
       "      <td>never smoked</td>\n",
       "      <td>0</td>\n",
       "    </tr>\n",
       "    <tr>\n",
       "      <th>4</th>\n",
       "      <td>Female</td>\n",
       "      <td>32.0</td>\n",
       "      <td>0</td>\n",
       "      <td>0</td>\n",
       "      <td>Yes</td>\n",
       "      <td>Private</td>\n",
       "      <td>Rural</td>\n",
       "      <td>77.67</td>\n",
       "      <td>32.3</td>\n",
       "      <td>smokes</td>\n",
       "      <td>0</td>\n",
       "    </tr>\n",
       "  </tbody>\n",
       "</table>\n",
       "</div>"
      ],
      "text/plain": [
       "   gender   age  hypertension  heart_disease ever_married      work_type  \\\n",
       "0    Male  58.0             1              0          Yes        Private   \n",
       "1  Female  70.0             0              0          Yes        Private   \n",
       "2  Female  52.0             0              0          Yes        Private   \n",
       "3  Female  75.0             0              1          Yes  Self-employed   \n",
       "4  Female  32.0             0              0          Yes        Private   \n",
       "\n",
       "  Residence_type  avg_glucose_level   bmi   smoking_status  stroke  \n",
       "0          Urban              87.96  39.2     never smoked       0  \n",
       "1          Rural              69.04  35.9  formerly smoked       0  \n",
       "2          Urban              77.59  17.7  formerly smoked       0  \n",
       "3          Rural             243.53  27.0     never smoked       0  \n",
       "4          Rural              77.67  32.3           smokes       0  "
      ]
     },
     "execution_count": 133,
     "metadata": {},
     "output_type": "execute_result"
    }
   ],
   "source": [
    "data.head()"
   ]
  },
  {
   "cell_type": "code",
   "execution_count": 134,
   "id": "d31ac628",
   "metadata": {},
   "outputs": [
    {
     "name": "stdout",
     "output_type": "stream",
     "text": [
      "<class 'pandas.core.frame.DataFrame'>\n",
      "RangeIndex: 29065 entries, 0 to 29064\n",
      "Data columns (total 11 columns):\n",
      " #   Column             Non-Null Count  Dtype  \n",
      "---  ------             --------------  -----  \n",
      " 0   gender             29065 non-null  object \n",
      " 1   age                29065 non-null  float64\n",
      " 2   hypertension       29065 non-null  int64  \n",
      " 3   heart_disease      29065 non-null  int64  \n",
      " 4   ever_married       29065 non-null  object \n",
      " 5   work_type          29065 non-null  object \n",
      " 6   Residence_type     29065 non-null  object \n",
      " 7   avg_glucose_level  29065 non-null  float64\n",
      " 8   bmi                29065 non-null  float64\n",
      " 9   smoking_status     29065 non-null  object \n",
      " 10  stroke             29065 non-null  int64  \n",
      "dtypes: float64(3), int64(3), object(5)\n",
      "memory usage: 2.4+ MB\n"
     ]
    }
   ],
   "source": [
    "data.info()"
   ]
  },
  {
   "cell_type": "code",
   "execution_count": 135,
   "id": "16d1457b",
   "metadata": {},
   "outputs": [
    {
     "data": {
      "text/html": [
       "<div>\n",
       "<style scoped>\n",
       "    .dataframe tbody tr th:only-of-type {\n",
       "        vertical-align: middle;\n",
       "    }\n",
       "\n",
       "    .dataframe tbody tr th {\n",
       "        vertical-align: top;\n",
       "    }\n",
       "\n",
       "    .dataframe thead th {\n",
       "        text-align: right;\n",
       "    }\n",
       "</style>\n",
       "<table border=\"1\" class=\"dataframe\">\n",
       "  <thead>\n",
       "    <tr style=\"text-align: right;\">\n",
       "      <th></th>\n",
       "      <th>age</th>\n",
       "      <th>hypertension</th>\n",
       "      <th>heart_disease</th>\n",
       "      <th>avg_glucose_level</th>\n",
       "      <th>bmi</th>\n",
       "      <th>stroke</th>\n",
       "    </tr>\n",
       "  </thead>\n",
       "  <tbody>\n",
       "    <tr>\n",
       "      <th>count</th>\n",
       "      <td>29065.000000</td>\n",
       "      <td>29065.000000</td>\n",
       "      <td>29065.000000</td>\n",
       "      <td>29065.000000</td>\n",
       "      <td>29065.000000</td>\n",
       "      <td>29065.000000</td>\n",
       "    </tr>\n",
       "    <tr>\n",
       "      <th>mean</th>\n",
       "      <td>47.676174</td>\n",
       "      <td>0.111509</td>\n",
       "      <td>0.052159</td>\n",
       "      <td>106.405639</td>\n",
       "      <td>30.054684</td>\n",
       "      <td>0.018854</td>\n",
       "    </tr>\n",
       "    <tr>\n",
       "      <th>std</th>\n",
       "      <td>18.732941</td>\n",
       "      <td>0.314766</td>\n",
       "      <td>0.222351</td>\n",
       "      <td>45.272453</td>\n",
       "      <td>7.193951</td>\n",
       "      <td>0.136013</td>\n",
       "    </tr>\n",
       "    <tr>\n",
       "      <th>min</th>\n",
       "      <td>10.000000</td>\n",
       "      <td>0.000000</td>\n",
       "      <td>0.000000</td>\n",
       "      <td>55.010000</td>\n",
       "      <td>10.100000</td>\n",
       "      <td>0.000000</td>\n",
       "    </tr>\n",
       "    <tr>\n",
       "      <th>25%</th>\n",
       "      <td>32.000000</td>\n",
       "      <td>0.000000</td>\n",
       "      <td>0.000000</td>\n",
       "      <td>77.630000</td>\n",
       "      <td>25.000000</td>\n",
       "      <td>0.000000</td>\n",
       "    </tr>\n",
       "    <tr>\n",
       "      <th>50%</th>\n",
       "      <td>48.000000</td>\n",
       "      <td>0.000000</td>\n",
       "      <td>0.000000</td>\n",
       "      <td>92.130000</td>\n",
       "      <td>28.900000</td>\n",
       "      <td>0.000000</td>\n",
       "    </tr>\n",
       "    <tr>\n",
       "      <th>75%</th>\n",
       "      <td>62.000000</td>\n",
       "      <td>0.000000</td>\n",
       "      <td>0.000000</td>\n",
       "      <td>113.910000</td>\n",
       "      <td>33.900000</td>\n",
       "      <td>0.000000</td>\n",
       "    </tr>\n",
       "    <tr>\n",
       "      <th>max</th>\n",
       "      <td>82.000000</td>\n",
       "      <td>1.000000</td>\n",
       "      <td>1.000000</td>\n",
       "      <td>291.050000</td>\n",
       "      <td>92.000000</td>\n",
       "      <td>1.000000</td>\n",
       "    </tr>\n",
       "  </tbody>\n",
       "</table>\n",
       "</div>"
      ],
      "text/plain": [
       "                age  hypertension  heart_disease  avg_glucose_level  \\\n",
       "count  29065.000000  29065.000000   29065.000000       29065.000000   \n",
       "mean      47.676174      0.111509       0.052159         106.405639   \n",
       "std       18.732941      0.314766       0.222351          45.272453   \n",
       "min       10.000000      0.000000       0.000000          55.010000   \n",
       "25%       32.000000      0.000000       0.000000          77.630000   \n",
       "50%       48.000000      0.000000       0.000000          92.130000   \n",
       "75%       62.000000      0.000000       0.000000         113.910000   \n",
       "max       82.000000      1.000000       1.000000         291.050000   \n",
       "\n",
       "                bmi        stroke  \n",
       "count  29065.000000  29065.000000  \n",
       "mean      30.054684      0.018854  \n",
       "std        7.193951      0.136013  \n",
       "min       10.100000      0.000000  \n",
       "25%       25.000000      0.000000  \n",
       "50%       28.900000      0.000000  \n",
       "75%       33.900000      0.000000  \n",
       "max       92.000000      1.000000  "
      ]
     },
     "execution_count": 135,
     "metadata": {},
     "output_type": "execute_result"
    }
   ],
   "source": [
    "data.describe()"
   ]
  },
  {
   "cell_type": "code",
   "execution_count": 136,
   "id": "1302b954",
   "metadata": {},
   "outputs": [
    {
     "data": {
      "text/plain": [
       "gender               0\n",
       "age                  0\n",
       "hypertension         0\n",
       "heart_disease        0\n",
       "ever_married         0\n",
       "work_type            0\n",
       "Residence_type       0\n",
       "avg_glucose_level    0\n",
       "bmi                  0\n",
       "smoking_status       0\n",
       "stroke               0\n",
       "dtype: int64"
      ]
     },
     "execution_count": 136,
     "metadata": {},
     "output_type": "execute_result"
    }
   ],
   "source": [
    "#Confirmation of missing values\n",
    "data.isna().sum()"
   ]
  },
  {
   "cell_type": "code",
   "execution_count": 10,
   "id": "cfc4e272",
   "metadata": {},
   "outputs": [],
   "source": [
    "#EDA"
   ]
  },
  {
   "cell_type": "code",
   "execution_count": 12,
   "id": "f891016f",
   "metadata": {},
   "outputs": [
    {
     "data": {
      "text/plain": [
       "<AxesSubplot:xlabel='stroke', ylabel='count'>"
      ]
     },
     "execution_count": 12,
     "metadata": {},
     "output_type": "execute_result"
    },
    {
     "data": {
      "image/png": "[encoded data removed]",
      "text/plain": [
       "<Figure size 432x288 with 1 Axes>"
      ]
     },
     "metadata": {
      "needs_background": "light"
     },
     "output_type": "display_data"
    }
   ],
   "source": [
    "sns.countplot(x='stroke',data=data)"
   ]
  },
  {
   "cell_type": "code",
   "execution_count": 16,
   "id": "1678a25e",
   "metadata": {},
   "outputs": [
    {
     "data": {
      "text/plain": [
       "548"
      ]
     },
     "execution_count": 16,
     "metadata": {},
     "output_type": "execute_result"
    }
   ],
   "source": [
    "stroke_positive = (data['stroke'] == 1).sum()\n",
    "stroke_positive"
   ]
  },
  {
   "cell_type": "code",
   "execution_count": 18,
   "id": "c6477950",
   "metadata": {},
   "outputs": [
    {
     "data": {
      "text/plain": [
       "0    28517\n",
       "1      548\n",
       "Name: stroke, dtype: int64"
      ]
     },
     "execution_count": 18,
     "metadata": {},
     "output_type": "execute_result"
    }
   ],
   "source": [
    "data['stroke'].value_counts()"
   ]
  },
  {
   "cell_type": "code",
   "execution_count": 19,
   "id": "ff5c2fc0",
   "metadata": {},
   "outputs": [
    {
     "data": {
      "text/plain": [
       "28517"
      ]
     },
     "execution_count": 19,
     "metadata": {},
     "output_type": "execute_result"
    }
   ],
   "source": [
    "stroke_negative = (data['stroke'] == 0).sum()\n",
    "stroke_negative"
   ]
  },
  {
   "cell_type": "code",
   "execution_count": 25,
   "id": "a91284de",
   "metadata": {},
   "outputs": [
    {
     "name": "stdout",
     "output_type": "stream",
     "text": [
      "1.89 of the total sample is Positive\n",
      "98.11 of the total sample is Negative\n"
     ]
    }
   ],
   "source": [
    "percentage_positive = stroke_positive / 29065 * 100\n",
    "percentage_negative = stroke_negative / 29065 * 100\n",
    "print(f'{percentage_positive:.2f} of the total sample is Positive')\n",
    "print(f'{percentage_negative:.2f} of the total sample is Negative')"
   ]
  },
  {
   "cell_type": "code",
   "execution_count": 31,
   "id": "63c8ca8d",
   "metadata": {},
   "outputs": [
    {
     "data": {
      "text/plain": [
       "<seaborn.axisgrid.FacetGrid at 0x1cb4b4110d0>"
      ]
     },
     "execution_count": 31,
     "metadata": {},
     "output_type": "execute_result"
    },
    {
     "data": {
      "text/plain": [
       "<Figure size 1440x432 with 0 Axes>"
      ]
     },
     "metadata": {},
     "output_type": "display_data"
    },
    {
     "data": {
      "image/png": "[encoded data removed]",
      "text/plain": [
       "<Figure size 360x360 with 1 Axes>"
      ]
     },
     "metadata": {
      "needs_background": "light"
     },
     "output_type": "display_data"
    }
   ],
   "source": [
    "sns.displot(data['age'],bins=50)"
   ]
  },
  {
   "cell_type": "code",
   "execution_count": 39,
   "id": "b6da67a3",
   "metadata": {},
   "outputs": [
    {
     "data": {
      "text/html": [
       "<div>\n",
       "<style scoped>\n",
       "    .dataframe tbody tr th:only-of-type {\n",
       "        vertical-align: middle;\n",
       "    }\n",
       "\n",
       "    .dataframe tbody tr th {\n",
       "        vertical-align: top;\n",
       "    }\n",
       "\n",
       "    .dataframe thead th {\n",
       "        text-align: right;\n",
       "    }\n",
       "</style>\n",
       "<table border=\"1\" class=\"dataframe\">\n",
       "  <thead>\n",
       "    <tr style=\"text-align: right;\">\n",
       "      <th></th>\n",
       "      <th>gender</th>\n",
       "      <th>age</th>\n",
       "      <th>hypertension</th>\n",
       "      <th>heart_disease</th>\n",
       "      <th>ever_married</th>\n",
       "      <th>work_type</th>\n",
       "      <th>Residence_type</th>\n",
       "      <th>avg_glucose_level</th>\n",
       "      <th>bmi</th>\n",
       "      <th>smoking_status</th>\n",
       "      <th>stroke</th>\n",
       "    </tr>\n",
       "  </thead>\n",
       "  <tbody>\n",
       "    <tr>\n",
       "      <th>40</th>\n",
       "      <td>Male</td>\n",
       "      <td>67.0</td>\n",
       "      <td>0</td>\n",
       "      <td>1</td>\n",
       "      <td>Yes</td>\n",
       "      <td>Private</td>\n",
       "      <td>Urban</td>\n",
       "      <td>228.69</td>\n",
       "      <td>36.6</td>\n",
       "      <td>formerly smoked</td>\n",
       "      <td>1</td>\n",
       "    </tr>\n",
       "    <tr>\n",
       "      <th>97</th>\n",
       "      <td>Male</td>\n",
       "      <td>80.0</td>\n",
       "      <td>0</td>\n",
       "      <td>1</td>\n",
       "      <td>Yes</td>\n",
       "      <td>Private</td>\n",
       "      <td>Rural</td>\n",
       "      <td>105.92</td>\n",
       "      <td>32.5</td>\n",
       "      <td>never smoked</td>\n",
       "      <td>1</td>\n",
       "    </tr>\n",
       "    <tr>\n",
       "      <th>174</th>\n",
       "      <td>Female</td>\n",
       "      <td>49.0</td>\n",
       "      <td>0</td>\n",
       "      <td>0</td>\n",
       "      <td>Yes</td>\n",
       "      <td>Private</td>\n",
       "      <td>Urban</td>\n",
       "      <td>171.23</td>\n",
       "      <td>34.4</td>\n",
       "      <td>smokes</td>\n",
       "      <td>1</td>\n",
       "    </tr>\n",
       "    <tr>\n",
       "      <th>178</th>\n",
       "      <td>Female</td>\n",
       "      <td>79.0</td>\n",
       "      <td>1</td>\n",
       "      <td>0</td>\n",
       "      <td>Yes</td>\n",
       "      <td>Self-employed</td>\n",
       "      <td>Rural</td>\n",
       "      <td>174.12</td>\n",
       "      <td>24.0</td>\n",
       "      <td>never smoked</td>\n",
       "      <td>1</td>\n",
       "    </tr>\n",
       "    <tr>\n",
       "      <th>197</th>\n",
       "      <td>Male</td>\n",
       "      <td>81.0</td>\n",
       "      <td>0</td>\n",
       "      <td>0</td>\n",
       "      <td>Yes</td>\n",
       "      <td>Private</td>\n",
       "      <td>Urban</td>\n",
       "      <td>186.21</td>\n",
       "      <td>29.0</td>\n",
       "      <td>formerly smoked</td>\n",
       "      <td>1</td>\n",
       "    </tr>\n",
       "    <tr>\n",
       "      <th>...</th>\n",
       "      <td>...</td>\n",
       "      <td>...</td>\n",
       "      <td>...</td>\n",
       "      <td>...</td>\n",
       "      <td>...</td>\n",
       "      <td>...</td>\n",
       "      <td>...</td>\n",
       "      <td>...</td>\n",
       "      <td>...</td>\n",
       "      <td>...</td>\n",
       "      <td>...</td>\n",
       "    </tr>\n",
       "    <tr>\n",
       "      <th>28863</th>\n",
       "      <td>Male</td>\n",
       "      <td>79.0</td>\n",
       "      <td>0</td>\n",
       "      <td>1</td>\n",
       "      <td>Yes</td>\n",
       "      <td>Self-employed</td>\n",
       "      <td>Urban</td>\n",
       "      <td>88.29</td>\n",
       "      <td>36.0</td>\n",
       "      <td>never smoked</td>\n",
       "      <td>1</td>\n",
       "    </tr>\n",
       "    <tr>\n",
       "      <th>28891</th>\n",
       "      <td>Male</td>\n",
       "      <td>76.0</td>\n",
       "      <td>0</td>\n",
       "      <td>0</td>\n",
       "      <td>Yes</td>\n",
       "      <td>Self-employed</td>\n",
       "      <td>Rural</td>\n",
       "      <td>93.38</td>\n",
       "      <td>26.7</td>\n",
       "      <td>formerly smoked</td>\n",
       "      <td>1</td>\n",
       "    </tr>\n",
       "    <tr>\n",
       "      <th>28910</th>\n",
       "      <td>Female</td>\n",
       "      <td>56.0</td>\n",
       "      <td>0</td>\n",
       "      <td>0</td>\n",
       "      <td>Yes</td>\n",
       "      <td>Private</td>\n",
       "      <td>Rural</td>\n",
       "      <td>83.27</td>\n",
       "      <td>32.9</td>\n",
       "      <td>smokes</td>\n",
       "      <td>1</td>\n",
       "    </tr>\n",
       "    <tr>\n",
       "      <th>29004</th>\n",
       "      <td>Female</td>\n",
       "      <td>80.0</td>\n",
       "      <td>0</td>\n",
       "      <td>0</td>\n",
       "      <td>Yes</td>\n",
       "      <td>Self-employed</td>\n",
       "      <td>Urban</td>\n",
       "      <td>75.91</td>\n",
       "      <td>26.7</td>\n",
       "      <td>never smoked</td>\n",
       "      <td>1</td>\n",
       "    </tr>\n",
       "    <tr>\n",
       "      <th>29014</th>\n",
       "      <td>Male</td>\n",
       "      <td>62.0</td>\n",
       "      <td>1</td>\n",
       "      <td>1</td>\n",
       "      <td>Yes</td>\n",
       "      <td>Private</td>\n",
       "      <td>Rural</td>\n",
       "      <td>77.97</td>\n",
       "      <td>31.5</td>\n",
       "      <td>formerly smoked</td>\n",
       "      <td>1</td>\n",
       "    </tr>\n",
       "  </tbody>\n",
       "</table>\n",
       "<p>548 rows × 11 columns</p>\n",
       "</div>"
      ],
      "text/plain": [
       "       gender   age  hypertension  heart_disease ever_married      work_type  \\\n",
       "40       Male  67.0             0              1          Yes        Private   \n",
       "97       Male  80.0             0              1          Yes        Private   \n",
       "174    Female  49.0             0              0          Yes        Private   \n",
       "178    Female  79.0             1              0          Yes  Self-employed   \n",
       "197      Male  81.0             0              0          Yes        Private   \n",
       "...       ...   ...           ...            ...          ...            ...   \n",
       "28863    Male  79.0             0              1          Yes  Self-employed   \n",
       "28891    Male  76.0             0              0          Yes  Self-employed   \n",
       "28910  Female  56.0             0              0          Yes        Private   \n",
       "29004  Female  80.0             0              0          Yes  Self-employed   \n",
       "29014    Male  62.0             1              1          Yes        Private   \n",
       "\n",
       "      Residence_type  avg_glucose_level   bmi   smoking_status  stroke  \n",
       "40             Urban             228.69  36.6  formerly smoked       1  \n",
       "97             Rural             105.92  32.5     never smoked       1  \n",
       "174            Urban             171.23  34.4           smokes       1  \n",
       "178            Rural             174.12  24.0     never smoked       1  \n",
       "197            Urban             186.21  29.0  formerly smoked       1  \n",
       "...              ...                ...   ...              ...     ...  \n",
       "28863          Urban              88.29  36.0     never smoked       1  \n",
       "28891          Rural              93.38  26.7  formerly smoked       1  \n",
       "28910          Rural              83.27  32.9           smokes       1  \n",
       "29004          Urban              75.91  26.7     never smoked       1  \n",
       "29014          Rural              77.97  31.5  formerly smoked       1  \n",
       "\n",
       "[548 rows x 11 columns]"
      ]
     },
     "execution_count": 39,
     "metadata": {},
     "output_type": "execute_result"
    }
   ],
   "source": [
    "data[data['stroke'] == 1]"
   ]
  },
  {
   "cell_type": "code",
   "execution_count": 41,
   "id": "f5bcf877",
   "metadata": {},
   "outputs": [
    {
     "data": {
      "text/plain": [
       "79.0    54\n",
       "78.0    40\n",
       "80.0    34\n",
       "81.0    33\n",
       "82.0    25\n",
       "77.0    18\n",
       "70.0    18\n",
       "74.0    17\n",
       "68.0    16\n",
       "72.0    16\n",
       "59.0    15\n",
       "67.0    15\n",
       "75.0    15\n",
       "73.0    14\n",
       "69.0    12\n",
       "66.0    12\n",
       "63.0    12\n",
       "54.0    12\n",
       "58.0    11\n",
       "71.0    11\n",
       "61.0    11\n",
       "60.0    11\n",
       "76.0    11\n",
       "57.0    10\n",
       "65.0    10\n",
       "56.0     9\n",
       "52.0     9\n",
       "50.0     8\n",
       "45.0     8\n",
       "62.0     8\n",
       "51.0     6\n",
       "39.0     5\n",
       "55.0     5\n",
       "64.0     4\n",
       "48.0     4\n",
       "47.0     4\n",
       "53.0     4\n",
       "43.0     3\n",
       "38.0     3\n",
       "46.0     3\n",
       "49.0     3\n",
       "34.0     2\n",
       "42.0     2\n",
       "32.0     1\n",
       "21.0     1\n",
       "41.0     1\n",
       "36.0     1\n",
       "33.0     1\n",
       "Name: age, dtype: int64"
      ]
     },
     "execution_count": 41,
     "metadata": {},
     "output_type": "execute_result"
    }
   ],
   "source": [
    "data[data['stroke'] == 1]['age'].value_counts()"
   ]
  },
  {
   "cell_type": "code",
   "execution_count": null,
   "id": "359dfca6",
   "metadata": {},
   "outputs": [],
   "source": []
  },
  {
   "cell_type": "code",
   "execution_count": 57,
   "id": "edc15036",
   "metadata": {},
   "outputs": [
    {
     "data": {
      "text/plain": [
       "<AxesSubplot:xlabel='age', ylabel='Count'>"
      ]
     },
     "execution_count": 57,
     "metadata": {},
     "output_type": "execute_result"
    },
    {
     "data": {
      "image/png": "[encoded data removed]",
      "text/plain": [
       "<Figure size 1080x432 with 1 Axes>"
      ]
     },
     "metadata": {
      "needs_background": "light"
     },
     "output_type": "display_data"
    }
   ],
   "source": [
    "plt.figure(figsize=(15,6))\n",
    "sns.histplot(data=data,x='age',hue='stroke',palette='inferno')"
   ]
  },
  {
   "cell_type": "code",
   "execution_count": 66,
   "id": "a732ddae",
   "metadata": {},
   "outputs": [
    {
     "data": {
      "text/plain": [
       "<AxesSubplot:xlabel='stroke', ylabel='count'>"
      ]
     },
     "execution_count": 66,
     "metadata": {},
     "output_type": "execute_result"
    },
    {
     "data": {
      "image/png": "[encoded data removed]",
      "text/plain": [
       "<Figure size 432x288 with 1 Axes>"
      ]
     },
     "metadata": {
      "needs_background": "light"
     },
     "output_type": "display_data"
    }
   ],
   "source": [
    "sns.countplot(x='stroke',data=data,hue='gender')"
   ]
  },
  {
   "cell_type": "code",
   "execution_count": 70,
   "id": "42ad8375",
   "metadata": {},
   "outputs": [
    {
     "data": {
      "text/plain": [
       "Female    313\n",
       "Male      235\n",
       "Name: gender, dtype: int64"
      ]
     },
     "execution_count": 70,
     "metadata": {},
     "output_type": "execute_result"
    }
   ],
   "source": [
    "data[data['stroke'] == 1]['gender'].value_counts()"
   ]
  },
  {
   "cell_type": "code",
   "execution_count": 73,
   "id": "f3eb3b8e",
   "metadata": {},
   "outputs": [
    {
     "data": {
      "text/html": [
       "<div>\n",
       "<style scoped>\n",
       "    .dataframe tbody tr th:only-of-type {\n",
       "        vertical-align: middle;\n",
       "    }\n",
       "\n",
       "    .dataframe tbody tr th {\n",
       "        vertical-align: top;\n",
       "    }\n",
       "\n",
       "    .dataframe thead th {\n",
       "        text-align: right;\n",
       "    }\n",
       "</style>\n",
       "<table border=\"1\" class=\"dataframe\">\n",
       "  <thead>\n",
       "    <tr style=\"text-align: right;\">\n",
       "      <th></th>\n",
       "      <th>gender</th>\n",
       "      <th>age</th>\n",
       "      <th>hypertension</th>\n",
       "      <th>heart_disease</th>\n",
       "      <th>ever_married</th>\n",
       "      <th>work_type</th>\n",
       "      <th>Residence_type</th>\n",
       "      <th>avg_glucose_level</th>\n",
       "      <th>bmi</th>\n",
       "      <th>smoking_status</th>\n",
       "      <th>stroke</th>\n",
       "    </tr>\n",
       "  </thead>\n",
       "  <tbody>\n",
       "    <tr>\n",
       "      <th>0</th>\n",
       "      <td>Male</td>\n",
       "      <td>58.0</td>\n",
       "      <td>1</td>\n",
       "      <td>0</td>\n",
       "      <td>Yes</td>\n",
       "      <td>Private</td>\n",
       "      <td>Urban</td>\n",
       "      <td>87.96</td>\n",
       "      <td>39.2</td>\n",
       "      <td>never smoked</td>\n",
       "      <td>0</td>\n",
       "    </tr>\n",
       "    <tr>\n",
       "      <th>1</th>\n",
       "      <td>Female</td>\n",
       "      <td>70.0</td>\n",
       "      <td>0</td>\n",
       "      <td>0</td>\n",
       "      <td>Yes</td>\n",
       "      <td>Private</td>\n",
       "      <td>Rural</td>\n",
       "      <td>69.04</td>\n",
       "      <td>35.9</td>\n",
       "      <td>formerly smoked</td>\n",
       "      <td>0</td>\n",
       "    </tr>\n",
       "  </tbody>\n",
       "</table>\n",
       "</div>"
      ],
      "text/plain": [
       "   gender   age  hypertension  heart_disease ever_married work_type  \\\n",
       "0    Male  58.0             1              0          Yes   Private   \n",
       "1  Female  70.0             0              0          Yes   Private   \n",
       "\n",
       "  Residence_type  avg_glucose_level   bmi   smoking_status  stroke  \n",
       "0          Urban              87.96  39.2     never smoked       0  \n",
       "1          Rural              69.04  35.9  formerly smoked       0  "
      ]
     },
     "execution_count": 73,
     "metadata": {},
     "output_type": "execute_result"
    }
   ],
   "source": [
    "data.head(2)"
   ]
  },
  {
   "cell_type": "code",
   "execution_count": 77,
   "id": "e27d638a",
   "metadata": {},
   "outputs": [
    {
     "data": {
      "text/plain": [
       "<seaborn.axisgrid.FacetGrid at 0x1cb53e0cee0>"
      ]
     },
     "execution_count": 77,
     "metadata": {},
     "output_type": "execute_result"
    },
    {
     "data": {
      "image/png": "[encoded data removed]",
      "text/plain": [
       "<Figure size 402.375x360 with 1 Axes>"
      ]
     },
     "metadata": {
      "needs_background": "light"
     },
     "output_type": "display_data"
    }
   ],
   "source": [
    "sns.displot(x='heart_disease',data=data,hue='stroke')"
   ]
  },
  {
   "cell_type": "code",
   "execution_count": 81,
   "id": "9f6e2045",
   "metadata": {},
   "outputs": [
    {
     "data": {
      "text/plain": [
       "<AxesSubplot:ylabel='Frequency'>"
      ]
     },
     "execution_count": 81,
     "metadata": {},
     "output_type": "execute_result"
    },
    {
     "data": {
      "image/png": "[encoded data removed]",
      "text/plain": [
       "<Figure size 720x432 with 1 Axes>"
      ]
     },
     "metadata": {
      "needs_background": "light"
     },
     "output_type": "display_data"
    }
   ],
   "source": [
    "plt.figure(figsize=(10,6))\n",
    "data['bmi'].plot(kind='hist')"
   ]
  },
  {
   "cell_type": "code",
   "execution_count": 87,
   "id": "0ce7f2d2",
   "metadata": {},
   "outputs": [
    {
     "data": {
      "text/plain": [
       "<AxesSubplot:>"
      ]
     },
     "execution_count": 87,
     "metadata": {},
     "output_type": "execute_result"
    },
    {
     "data": {
      "image/png": "[encoded data removed]",
      "text/plain": [
       "<Figure size 720x432 with 1 Axes>"
      ]
     },
     "metadata": {
      "needs_background": "light"
     },
     "output_type": "display_data"
    }
   ],
   "source": [
    "plt.figure(figsize=(10,6))\n",
    "data.corr()['stroke'].sort_values().plot(kind='bar')"
   ]
  },
  {
   "cell_type": "code",
   "execution_count": 88,
   "id": "ff0f64b3",
   "metadata": {},
   "outputs": [],
   "source": [
    "#data preprocessing"
   ]
  },
  {
   "cell_type": "code",
   "execution_count": 89,
   "id": "a8cf0e94",
   "metadata": {},
   "outputs": [
    {
     "data": {
      "text/html": [
       "<div>\n",
       "<style scoped>\n",
       "    .dataframe tbody tr th:only-of-type {\n",
       "        vertical-align: middle;\n",
       "    }\n",
       "\n",
       "    .dataframe tbody tr th {\n",
       "        vertical-align: top;\n",
       "    }\n",
       "\n",
       "    .dataframe thead th {\n",
       "        text-align: right;\n",
       "    }\n",
       "</style>\n",
       "<table border=\"1\" class=\"dataframe\">\n",
       "  <thead>\n",
       "    <tr style=\"text-align: right;\">\n",
       "      <th></th>\n",
       "      <th>gender</th>\n",
       "      <th>age</th>\n",
       "      <th>hypertension</th>\n",
       "      <th>heart_disease</th>\n",
       "      <th>ever_married</th>\n",
       "      <th>work_type</th>\n",
       "      <th>Residence_type</th>\n",
       "      <th>avg_glucose_level</th>\n",
       "      <th>bmi</th>\n",
       "      <th>smoking_status</th>\n",
       "      <th>stroke</th>\n",
       "    </tr>\n",
       "  </thead>\n",
       "  <tbody>\n",
       "    <tr>\n",
       "      <th>0</th>\n",
       "      <td>Male</td>\n",
       "      <td>58.0</td>\n",
       "      <td>1</td>\n",
       "      <td>0</td>\n",
       "      <td>Yes</td>\n",
       "      <td>Private</td>\n",
       "      <td>Urban</td>\n",
       "      <td>87.96</td>\n",
       "      <td>39.2</td>\n",
       "      <td>never smoked</td>\n",
       "      <td>0</td>\n",
       "    </tr>\n",
       "    <tr>\n",
       "      <th>1</th>\n",
       "      <td>Female</td>\n",
       "      <td>70.0</td>\n",
       "      <td>0</td>\n",
       "      <td>0</td>\n",
       "      <td>Yes</td>\n",
       "      <td>Private</td>\n",
       "      <td>Rural</td>\n",
       "      <td>69.04</td>\n",
       "      <td>35.9</td>\n",
       "      <td>formerly smoked</td>\n",
       "      <td>0</td>\n",
       "    </tr>\n",
       "  </tbody>\n",
       "</table>\n",
       "</div>"
      ],
      "text/plain": [
       "   gender   age  hypertension  heart_disease ever_married work_type  \\\n",
       "0    Male  58.0             1              0          Yes   Private   \n",
       "1  Female  70.0             0              0          Yes   Private   \n",
       "\n",
       "  Residence_type  avg_glucose_level   bmi   smoking_status  stroke  \n",
       "0          Urban              87.96  39.2     never smoked       0  \n",
       "1          Rural              69.04  35.9  formerly smoked       0  "
      ]
     },
     "execution_count": 89,
     "metadata": {},
     "output_type": "execute_result"
    }
   ],
   "source": [
    "data.head(2)"
   ]
  },
  {
   "cell_type": "code",
   "execution_count": 90,
   "id": "d424cee1",
   "metadata": {},
   "outputs": [
    {
     "data": {
      "text/plain": [
       "Female    17852\n",
       "Male      11213\n",
       "Name: gender, dtype: int64"
      ]
     },
     "execution_count": 90,
     "metadata": {},
     "output_type": "execute_result"
    }
   ],
   "source": [
    "data['gender'].value_counts()"
   ]
  },
  {
   "cell_type": "code",
   "execution_count": 91,
   "id": "32c49d5b",
   "metadata": {},
   "outputs": [
    {
     "data": {
      "text/plain": [
       "never smoked       15746\n",
       "formerly smoked     7093\n",
       "smokes              6226\n",
       "Name: smoking_status, dtype: int64"
      ]
     },
     "execution_count": 91,
     "metadata": {},
     "output_type": "execute_result"
    }
   ],
   "source": [
    "data['smoking_status'].value_counts()"
   ]
  },
  {
   "cell_type": "code",
   "execution_count": 92,
   "id": "4de26447",
   "metadata": {},
   "outputs": [
    {
     "data": {
      "text/plain": [
       "Yes    21687\n",
       "No      7378\n",
       "Name: ever_married, dtype: int64"
      ]
     },
     "execution_count": 92,
     "metadata": {},
     "output_type": "execute_result"
    }
   ],
   "source": [
    "data['ever_married'].value_counts()"
   ]
  },
  {
   "cell_type": "code",
   "execution_count": 93,
   "id": "eb4b52cf",
   "metadata": {},
   "outputs": [
    {
     "data": {
      "text/plain": [
       "Private          18950\n",
       "Self-employed     5204\n",
       "Govt_job          4195\n",
       "children           615\n",
       "Never_worked       101\n",
       "Name: work_type, dtype: int64"
      ]
     },
     "execution_count": 93,
     "metadata": {},
     "output_type": "execute_result"
    }
   ],
   "source": [
    "data['work_type'].value_counts()"
   ]
  },
  {
   "cell_type": "code",
   "execution_count": 94,
   "id": "3d4de683",
   "metadata": {},
   "outputs": [
    {
     "data": {
      "text/plain": [
       "Urban    14592\n",
       "Rural    14473\n",
       "Name: Residence_type, dtype: int64"
      ]
     },
     "execution_count": 94,
     "metadata": {},
     "output_type": "execute_result"
    }
   ],
   "source": [
    "data['Residence_type'].value_counts()"
   ]
  },
  {
   "cell_type": "code",
   "execution_count": 137,
   "id": "697f5e1b",
   "metadata": {},
   "outputs": [],
   "source": [
    "#ONE HOT\n",
    "gender = pd.get_dummies(data['gender'],drop_first=True)\n",
    "smoking_status = pd.get_dummies(data['smoking_status'],drop_first=True)\n",
    "ever_married = pd.get_dummies(data['ever_married'],drop_first=True)\n",
    "work_type = pd.get_dummies(data['work_type'],drop_first=True)\n",
    "residence_type = pd.get_dummies(data['Residence_type'],drop_first=True)"
   ]
  },
  {
   "cell_type": "code",
   "execution_count": 97,
   "id": "b1268d7f",
   "metadata": {},
   "outputs": [
    {
     "data": {
      "text/html": [
       "<div>\n",
       "<style scoped>\n",
       "    .dataframe tbody tr th:only-of-type {\n",
       "        vertical-align: middle;\n",
       "    }\n",
       "\n",
       "    .dataframe tbody tr th {\n",
       "        vertical-align: top;\n",
       "    }\n",
       "\n",
       "    .dataframe thead th {\n",
       "        text-align: right;\n",
       "    }\n",
       "</style>\n",
       "<table border=\"1\" class=\"dataframe\">\n",
       "  <thead>\n",
       "    <tr style=\"text-align: right;\">\n",
       "      <th></th>\n",
       "      <th>Male</th>\n",
       "    </tr>\n",
       "  </thead>\n",
       "  <tbody>\n",
       "    <tr>\n",
       "      <th>0</th>\n",
       "      <td>1</td>\n",
       "    </tr>\n",
       "    <tr>\n",
       "      <th>1</th>\n",
       "      <td>0</td>\n",
       "    </tr>\n",
       "    <tr>\n",
       "      <th>2</th>\n",
       "      <td>0</td>\n",
       "    </tr>\n",
       "    <tr>\n",
       "      <th>3</th>\n",
       "      <td>0</td>\n",
       "    </tr>\n",
       "    <tr>\n",
       "      <th>4</th>\n",
       "      <td>0</td>\n",
       "    </tr>\n",
       "  </tbody>\n",
       "</table>\n",
       "</div>"
      ],
      "text/plain": [
       "   Male\n",
       "0     1\n",
       "1     0\n",
       "2     0\n",
       "3     0\n",
       "4     0"
      ]
     },
     "execution_count": 97,
     "metadata": {},
     "output_type": "execute_result"
    }
   ],
   "source": [
    "gender.head()"
   ]
  },
  {
   "cell_type": "code",
   "execution_count": 138,
   "id": "31ae08a3",
   "metadata": {},
   "outputs": [],
   "source": [
    "data = data.drop(['gender','smoking_status','ever_married','work_type','Residence_type'],axis=1)"
   ]
  },
  {
   "cell_type": "code",
   "execution_count": 139,
   "id": "42c8e83d",
   "metadata": {},
   "outputs": [
    {
     "data": {
      "text/html": [
       "<div>\n",
       "<style scoped>\n",
       "    .dataframe tbody tr th:only-of-type {\n",
       "        vertical-align: middle;\n",
       "    }\n",
       "\n",
       "    .dataframe tbody tr th {\n",
       "        vertical-align: top;\n",
       "    }\n",
       "\n",
       "    .dataframe thead th {\n",
       "        text-align: right;\n",
       "    }\n",
       "</style>\n",
       "<table border=\"1\" class=\"dataframe\">\n",
       "  <thead>\n",
       "    <tr style=\"text-align: right;\">\n",
       "      <th></th>\n",
       "      <th>age</th>\n",
       "      <th>hypertension</th>\n",
       "      <th>heart_disease</th>\n",
       "      <th>avg_glucose_level</th>\n",
       "      <th>bmi</th>\n",
       "      <th>stroke</th>\n",
       "    </tr>\n",
       "  </thead>\n",
       "  <tbody>\n",
       "    <tr>\n",
       "      <th>0</th>\n",
       "      <td>58.0</td>\n",
       "      <td>1</td>\n",
       "      <td>0</td>\n",
       "      <td>87.96</td>\n",
       "      <td>39.2</td>\n",
       "      <td>0</td>\n",
       "    </tr>\n",
       "    <tr>\n",
       "      <th>1</th>\n",
       "      <td>70.0</td>\n",
       "      <td>0</td>\n",
       "      <td>0</td>\n",
       "      <td>69.04</td>\n",
       "      <td>35.9</td>\n",
       "      <td>0</td>\n",
       "    </tr>\n",
       "    <tr>\n",
       "      <th>2</th>\n",
       "      <td>52.0</td>\n",
       "      <td>0</td>\n",
       "      <td>0</td>\n",
       "      <td>77.59</td>\n",
       "      <td>17.7</td>\n",
       "      <td>0</td>\n",
       "    </tr>\n",
       "    <tr>\n",
       "      <th>3</th>\n",
       "      <td>75.0</td>\n",
       "      <td>0</td>\n",
       "      <td>1</td>\n",
       "      <td>243.53</td>\n",
       "      <td>27.0</td>\n",
       "      <td>0</td>\n",
       "    </tr>\n",
       "    <tr>\n",
       "      <th>4</th>\n",
       "      <td>32.0</td>\n",
       "      <td>0</td>\n",
       "      <td>0</td>\n",
       "      <td>77.67</td>\n",
       "      <td>32.3</td>\n",
       "      <td>0</td>\n",
       "    </tr>\n",
       "  </tbody>\n",
       "</table>\n",
       "</div>"
      ],
      "text/plain": [
       "    age  hypertension  heart_disease  avg_glucose_level   bmi  stroke\n",
       "0  58.0             1              0              87.96  39.2       0\n",
       "1  70.0             0              0              69.04  35.9       0\n",
       "2  52.0             0              0              77.59  17.7       0\n",
       "3  75.0             0              1             243.53  27.0       0\n",
       "4  32.0             0              0              77.67  32.3       0"
      ]
     },
     "execution_count": 139,
     "metadata": {},
     "output_type": "execute_result"
    }
   ],
   "source": [
    "data.head()"
   ]
  },
  {
   "cell_type": "code",
   "execution_count": 140,
   "id": "7fb1db7e",
   "metadata": {},
   "outputs": [],
   "source": [
    "data = pd.concat([data,gender,smoking_status,ever_married,work_type,residence_type],axis=1)"
   ]
  },
  {
   "cell_type": "code",
   "execution_count": 141,
   "id": "98a8c9e6",
   "metadata": {},
   "outputs": [
    {
     "data": {
      "text/html": [
       "<div>\n",
       "<style scoped>\n",
       "    .dataframe tbody tr th:only-of-type {\n",
       "        vertical-align: middle;\n",
       "    }\n",
       "\n",
       "    .dataframe tbody tr th {\n",
       "        vertical-align: top;\n",
       "    }\n",
       "\n",
       "    .dataframe thead th {\n",
       "        text-align: right;\n",
       "    }\n",
       "</style>\n",
       "<table border=\"1\" class=\"dataframe\">\n",
       "  <thead>\n",
       "    <tr style=\"text-align: right;\">\n",
       "      <th></th>\n",
       "      <th>age</th>\n",
       "      <th>hypertension</th>\n",
       "      <th>heart_disease</th>\n",
       "      <th>avg_glucose_level</th>\n",
       "      <th>bmi</th>\n",
       "      <th>stroke</th>\n",
       "      <th>Male</th>\n",
       "      <th>never smoked</th>\n",
       "      <th>smokes</th>\n",
       "      <th>Yes</th>\n",
       "      <th>Never_worked</th>\n",
       "      <th>Private</th>\n",
       "      <th>Self-employed</th>\n",
       "      <th>children</th>\n",
       "      <th>Urban</th>\n",
       "    </tr>\n",
       "  </thead>\n",
       "  <tbody>\n",
       "    <tr>\n",
       "      <th>0</th>\n",
       "      <td>58.0</td>\n",
       "      <td>1</td>\n",
       "      <td>0</td>\n",
       "      <td>87.96</td>\n",
       "      <td>39.2</td>\n",
       "      <td>0</td>\n",
       "      <td>1</td>\n",
       "      <td>1</td>\n",
       "      <td>0</td>\n",
       "      <td>1</td>\n",
       "      <td>0</td>\n",
       "      <td>1</td>\n",
       "      <td>0</td>\n",
       "      <td>0</td>\n",
       "      <td>1</td>\n",
       "    </tr>\n",
       "    <tr>\n",
       "      <th>1</th>\n",
       "      <td>70.0</td>\n",
       "      <td>0</td>\n",
       "      <td>0</td>\n",
       "      <td>69.04</td>\n",
       "      <td>35.9</td>\n",
       "      <td>0</td>\n",
       "      <td>0</td>\n",
       "      <td>0</td>\n",
       "      <td>0</td>\n",
       "      <td>1</td>\n",
       "      <td>0</td>\n",
       "      <td>1</td>\n",
       "      <td>0</td>\n",
       "      <td>0</td>\n",
       "      <td>0</td>\n",
       "    </tr>\n",
       "  </tbody>\n",
       "</table>\n",
       "</div>"
      ],
      "text/plain": [
       "    age  hypertension  heart_disease  avg_glucose_level   bmi  stroke  Male  \\\n",
       "0  58.0             1              0              87.96  39.2       0     1   \n",
       "1  70.0             0              0              69.04  35.9       0     0   \n",
       "\n",
       "   never smoked  smokes  Yes  Never_worked  Private  Self-employed  children  \\\n",
       "0             1       0    1             0        1              0         0   \n",
       "1             0       0    1             0        1              0         0   \n",
       "\n",
       "   Urban  \n",
       "0      1  \n",
       "1      0  "
      ]
     },
     "execution_count": 141,
     "metadata": {},
     "output_type": "execute_result"
    }
   ],
   "source": [
    "data.head(2)"
   ]
  },
  {
   "cell_type": "code",
   "execution_count": 142,
   "id": "7a3d4700",
   "metadata": {},
   "outputs": [],
   "source": [
    "X = data.drop('stroke',axis=1).values\n",
    "y = data['stroke'].values"
   ]
  },
  {
   "cell_type": "code",
   "execution_count": 143,
   "id": "8ebb4d57",
   "metadata": {},
   "outputs": [
    {
     "name": "stdout",
     "output_type": "stream",
     "text": [
      "(29065, 14) (29065,)\n"
     ]
    }
   ],
   "source": [
    "print(X.shape, y.shape)"
   ]
  },
  {
   "cell_type": "code",
   "execution_count": 144,
   "id": "0722bb75",
   "metadata": {},
   "outputs": [],
   "source": [
    "from sklearn.preprocessing import MinMaxScaler\n",
    "from sklearn.model_selection import train_test_split"
   ]
  },
  {
   "cell_type": "code",
   "execution_count": 145,
   "id": "6c0296c0",
   "metadata": {},
   "outputs": [],
   "source": [
    "X_train, X_test, y_train, y_test = train_test_split(X, y, test_size=0.3, random_state=42)"
   ]
  },
  {
   "cell_type": "code",
   "execution_count": 146,
   "id": "d990e8ef",
   "metadata": {},
   "outputs": [
    {
     "data": {
      "text/plain": [
       "(20345, 14)"
      ]
     },
     "execution_count": 146,
     "metadata": {},
     "output_type": "execute_result"
    }
   ],
   "source": [
    "X_train.shape"
   ]
  },
  {
   "cell_type": "code",
   "execution_count": 147,
   "id": "93955cca",
   "metadata": {},
   "outputs": [
    {
     "data": {
      "text/plain": [
       "(8720, 14)"
      ]
     },
     "execution_count": 147,
     "metadata": {},
     "output_type": "execute_result"
    }
   ],
   "source": [
    "X_test.shape"
   ]
  },
  {
   "cell_type": "code",
   "execution_count": 148,
   "id": "63594c76",
   "metadata": {},
   "outputs": [],
   "source": [
    "scale = MinMaxScaler()\n",
    "X_train = scale.fit_transform(X_train)\n",
    "X_test = scale.transform(X_test)"
   ]
  },
  {
   "cell_type": "code",
   "execution_count": 149,
   "id": "c9d4fa83",
   "metadata": {},
   "outputs": [],
   "source": [
    "from tensorflow.keras.models import Sequential\n",
    "from tensorflow.keras.layers import Dense,Activation,Dropout"
   ]
  },
  {
   "cell_type": "code",
   "execution_count": 150,
   "id": "e5ba3c78",
   "metadata": {},
   "outputs": [],
   "source": [
    "model = Sequential()\n",
    "\n",
    "model.add(Dense(78,activation='relu'))\n",
    "model.add(Dropout(0.2))\n",
    "\n",
    "model.add(Dense(34,activation='relu'))\n",
    "model.add(Dropout((0.2)))\n",
    "\n",
    "model.add(Dense(18,activation='relu'))\n",
    "model.add(Dropout((0.2)))\n",
    "\n",
    "model.add(Dense(units=1,activation='sigmoid'))\n",
    "\n",
    "model.compile(loss='binary_crossentropy',optimizer='adam')"
   ]
  },
  {
   "cell_type": "code",
   "execution_count": 151,
   "id": "5f9a8fae",
   "metadata": {},
   "outputs": [
    {
     "name": "stdout",
     "output_type": "stream",
     "text": [
      "Epoch 1/25\n",
      "80/80 [==============================] - 9s 32ms/step - loss: 0.2560 - val_loss: 0.1028\n",
      "Epoch 2/25\n",
      "80/80 [==============================] - 2s 23ms/step - loss: 0.1124 - val_loss: 0.0930\n",
      "Epoch 3/25\n",
      "80/80 [==============================] - 2s 21ms/step - loss: 0.1028 - val_loss: 0.0868\n",
      "Epoch 4/25\n",
      "80/80 [==============================] - 2s 23ms/step - loss: 0.0939 - val_loss: 0.0821\n",
      "Epoch 5/25\n",
      "80/80 [==============================] - 2s 21ms/step - loss: 0.0908 - val_loss: 0.0820\n",
      "Epoch 6/25\n",
      "80/80 [==============================] - 2s 24ms/step - loss: 0.0891 - val_loss: 0.0791\n",
      "Epoch 7/25\n",
      "80/80 [==============================] - 2s 25ms/step - loss: 0.0881 - val_loss: 0.0793\n",
      "Epoch 8/25\n",
      "80/80 [==============================] - 2s 25ms/step - loss: 0.0868 - val_loss: 0.0793\n",
      "Epoch 9/25\n",
      "80/80 [==============================] - 2s 23ms/step - loss: 0.0863 - val_loss: 0.0792\n",
      "Epoch 10/25\n",
      "80/80 [==============================] - 2s 23ms/step - loss: 0.0854 - val_loss: 0.0788\n",
      "Epoch 11/25\n",
      "80/80 [==============================] - 2s 22ms/step - loss: 0.0842 - val_loss: 0.0793\n",
      "Epoch 12/25\n",
      "80/80 [==============================] - 2s 22ms/step - loss: 0.0854 - val_loss: 0.0786\n",
      "Epoch 13/25\n",
      "80/80 [==============================] - 2s 23ms/step - loss: 0.0835 - val_loss: 0.0793\n",
      "Epoch 14/25\n",
      "80/80 [==============================] - 2s 24ms/step - loss: 0.0840 - val_loss: 0.0787\n",
      "Epoch 15/25\n",
      "80/80 [==============================] - 2s 25ms/step - loss: 0.0827 - val_loss: 0.0784\n",
      "Epoch 16/25\n",
      "80/80 [==============================] - 2s 27ms/step - loss: 0.0829 - val_loss: 0.0791\n",
      "Epoch 17/25\n",
      "80/80 [==============================] - 2s 23ms/step - loss: 0.0827 - val_loss: 0.0789\n",
      "Epoch 18/25\n",
      "80/80 [==============================] - 2s 24ms/step - loss: 0.0820 - val_loss: 0.0791\n",
      "Epoch 19/25\n",
      "80/80 [==============================] - 2s 25ms/step - loss: 0.0837 - val_loss: 0.0793\n",
      "Epoch 20/25\n",
      "80/80 [==============================] - 2s 23ms/step - loss: 0.0819 - val_loss: 0.0787\n",
      "Epoch 21/25\n",
      "80/80 [==============================] - 2s 23ms/step - loss: 0.0814 - val_loss: 0.0789\n",
      "Epoch 22/25\n",
      "80/80 [==============================] - 2s 25ms/step - loss: 0.0814 - val_loss: 0.0789\n",
      "Epoch 23/25\n",
      "80/80 [==============================] - 2s 27ms/step - loss: 0.0813 - val_loss: 0.0788\n",
      "Epoch 24/25\n",
      "80/80 [==============================] - 2s 27ms/step - loss: 0.0821 - val_loss: 0.0792\n",
      "Epoch 25/25\n",
      "80/80 [==============================] - 2s 24ms/step - loss: 0.0814 - val_loss: 0.0789\n"
     ]
    },
    {
     "data": {
      "text/plain": [
       "<keras.src.callbacks.History at 0x1cb6311f9a0>"
      ]
     },
     "execution_count": 151,
     "metadata": {},
     "output_type": "execute_result"
    }
   ],
   "source": [
    "model.fit(x=X_train, \n",
    "          y=y_train, \n",
    "          epochs=25,\n",
    "          batch_size=256,\n",
    "          validation_data=(X_test, y_test), \n",
    "          )"
   ]
  },
  {
   "cell_type": "code",
   "execution_count": 152,
   "id": "e70b346a",
   "metadata": {},
   "outputs": [
    {
     "data": {
      "text/plain": [
       "<AxesSubplot:>"
      ]
     },
     "execution_count": 152,
     "metadata": {},
     "output_type": "execute_result"
    },
    {
     "data": {
      "image/png": "[encoded data removed]",
      "text/plain": [
       "<Figure size 432x288 with 1 Axes>"
      ]
     },
     "metadata": {
      "needs_background": "light"
     },
     "output_type": "display_data"
    }
   ],
   "source": [
    "loss = pd.DataFrame(model.history.history)\n",
    "loss[['loss','val_loss']].plot()"
   ]
  },
  {
   "cell_type": "code",
   "execution_count": 153,
   "id": "27111a4d",
   "metadata": {},
   "outputs": [
    {
     "name": "stdout",
     "output_type": "stream",
     "text": [
      "273/273 [==============================] - 3s 10ms/step\n"
     ]
    }
   ],
   "source": [
    "stroke_prediction = model.predict(X_test)"
   ]
  },
  {
   "cell_type": "code",
   "execution_count": 163,
   "id": "8e72cf30",
   "metadata": {},
   "outputs": [],
   "source": [
    "from tensorflow.keras.models import load_model"
   ]
  },
  {
   "cell_type": "code",
   "execution_count": 167,
   "id": "187f842c",
   "metadata": {},
   "outputs": [
    {
     "name": "stderr",
     "output_type": "stream",
     "text": [
      "C:\\Users\\user pc\\anaconda3\\lib\\site-packages\\keras\\src\\engine\\training.py:3000: UserWarning: You are saving your model as an HDF5 file via `model.save()`. This file format is considered legacy. We recommend using instead the native Keras format, e.g. `model.save('my_model.keras')`.\n",
      "  saving_api.save_model(\n"
     ]
    }
   ],
   "source": [
    "model.save('Stroke_model.h5')"
   ]
  },
  {
   "cell_type": "code",
   "execution_count": null,
   "id": "df5a5754",
   "metadata": {},
   "outputs": [],
   "source": []
  },
  {
   "cell_type": "code",
   "execution_count": null,
   "id": "38e17b13",
   "metadata": {},
   "outputs": [],
   "source": []
  }
 ],
 "metadata": {
  "kernelspec": {
   "display_name": "Python 3 (ipykernel)",
   "language": "python",
   "name": "python3"
  },
  "language_info": {
   "codemirror_mode": {
    "name": "ipython",
    "version": 3
   },
   "file_extension": ".py",
   "mimetype": "text/x-python",
   "name": "python",
   "nbconvert_exporter": "python",
   "pygments_lexer": "ipython3",
   "version": "3.9.12"
  }
 },
 "nbformat": 4,
 "nbformat_minor": 5
}
